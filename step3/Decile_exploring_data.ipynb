{
 "cells": [
  {
   "cell_type": "code",
   "execution_count": null,
   "metadata": {},
   "outputs": [],
   "source": [
    "a <- read.table(\"step3_ukbb_random_out_LDpred_p1.0000e-03.txt\", header = TRUE)\n",
    "head(a)"
   ]
  },
  {
   "cell_type": "code",
   "execution_count": null,
   "metadata": {},
   "outputs": [],
   "source": [
    "a$II"
   ]
  }
 ],
 "metadata": {
  "kernelspec": {
   "display_name": "R 3.5.1",
   "language": "R",
   "name": "ir35"
  }
 },
 "nbformat": 4,
 "nbformat_minor": 2
}
