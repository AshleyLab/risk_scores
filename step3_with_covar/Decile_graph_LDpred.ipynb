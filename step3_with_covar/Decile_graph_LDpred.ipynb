{
 "cells": [
  {
   "cell_type": "code",
   "execution_count": null,
   "metadata": {},
   "outputs": [],
   "source": [
    "a <- read.table(\"step3_ukbb_random_out_LDpred_p1.0000e-03.txt\", header = TRUE)"
   ]
  },
  {
   "cell_type": "code",
   "execution_count": null,
   "metadata": {},
   "outputs": [],
   "source": [
    "head(a)"
   ]
  },
  {
   "cell_type": "code",
   "execution_count": 8,
   "metadata": {},
   "outputs": [],
   "source": [
    "a$IID. <- gsub(\",\", \"\", a$IID.)\n",
    "colnames(a)[1] <- c(\"IID\")"
   ]
  },
  {
   "cell_type": "code",
   "execution_count": 6,
   "metadata": {},
   "outputs": [],
   "source": [
    "phen <- read.table(\"phenotype_file.tsv\", header = TRUE)"
   ]
  },
  {
   "cell_type": "code",
   "execution_count": 7,
   "metadata": {},
   "outputs": [
    {
     "data": {
      "text/html": [
       "<table>\n",
       "<thead><tr><th scope=col>IID</th><th scope=col>PHEN</th></tr></thead>\n",
       "<tbody>\n",
       "\t<tr><td>2365537</td><td>0      </td></tr>\n",
       "\t<tr><td>5270945</td><td>0      </td></tr>\n",
       "\t<tr><td>2516596</td><td>1      </td></tr>\n",
       "\t<tr><td>2807764</td><td>0      </td></tr>\n",
       "\t<tr><td>2350324</td><td>0      </td></tr>\n",
       "\t<tr><td>3651143</td><td>0      </td></tr>\n",
       "</tbody>\n",
       "</table>\n"
      ],
      "text/latex": [
       "\\begin{tabular}{r|ll}\n",
       " IID & PHEN\\\\\n",
       "\\hline\n",
       "\t 2365537 & 0      \\\\\n",
       "\t 5270945 & 0      \\\\\n",
       "\t 2516596 & 1      \\\\\n",
       "\t 2807764 & 0      \\\\\n",
       "\t 2350324 & 0      \\\\\n",
       "\t 3651143 & 0      \\\\\n",
       "\\end{tabular}\n"
      ],
      "text/markdown": [
       "\n",
       "IID | PHEN | \n",
       "|---|---|---|---|---|---|\n",
       "| 2365537 | 0       | \n",
       "| 5270945 | 0       | \n",
       "| 2516596 | 1       | \n",
       "| 2807764 | 0       | \n",
       "| 2350324 | 0       | \n",
       "| 3651143 | 0       | \n",
       "\n",
       "\n"
      ],
      "text/plain": [
       "  IID     PHEN\n",
       "1 2365537 0   \n",
       "2 5270945 0   \n",
       "3 2516596 1   \n",
       "4 2807764 0   \n",
       "5 2350324 0   \n",
       "6 3651143 0   "
      ]
     },
     "metadata": {},
     "output_type": "display_data"
    }
   ],
   "source": [
    "head(phen)"
   ]
  },
  {
   "cell_type": "code",
   "execution_count": 11,
   "metadata": {},
   "outputs": [
    {
     "data": {
      "text/html": [
       "<table>\n",
       "<thead><tr><th scope=col>IID</th><th scope=col>PRS</th><th scope=col>PHEN</th></tr></thead>\n",
       "<tbody>\n",
       "\t<tr><td>1001207 </td><td>5.016361</td><td>1       </td></tr>\n",
       "\t<tr><td>1001732 </td><td>5.003023</td><td>0       </td></tr>\n",
       "\t<tr><td>1001874 </td><td>5.026874</td><td>0       </td></tr>\n",
       "\t<tr><td>1001964 </td><td>5.028892</td><td>0       </td></tr>\n",
       "\t<tr><td>1004458 </td><td>5.044925</td><td>0       </td></tr>\n",
       "\t<tr><td>1004649 </td><td>5.002404</td><td>0       </td></tr>\n",
       "</tbody>\n",
       "</table>\n"
      ],
      "text/latex": [
       "\\begin{tabular}{r|lll}\n",
       " IID & PRS & PHEN\\\\\n",
       "\\hline\n",
       "\t 1001207  & 5.016361 & 1       \\\\\n",
       "\t 1001732  & 5.003023 & 0       \\\\\n",
       "\t 1001874  & 5.026874 & 0       \\\\\n",
       "\t 1001964  & 5.028892 & 0       \\\\\n",
       "\t 1004458  & 5.044925 & 0       \\\\\n",
       "\t 1004649  & 5.002404 & 0       \\\\\n",
       "\\end{tabular}\n"
      ],
      "text/markdown": [
       "\n",
       "IID | PRS | PHEN | \n",
       "|---|---|---|---|---|---|\n",
       "| 1001207  | 5.016361 | 1        | \n",
       "| 1001732  | 5.003023 | 0        | \n",
       "| 1001874  | 5.026874 | 0        | \n",
       "| 1001964  | 5.028892 | 0        | \n",
       "| 1004458  | 5.044925 | 0        | \n",
       "| 1004649  | 5.002404 | 0        | \n",
       "\n",
       "\n"
      ],
      "text/plain": [
       "  IID     PRS      PHEN\n",
       "1 1001207 5.016361 1   \n",
       "2 1001732 5.003023 0   \n",
       "3 1001874 5.026874 0   \n",
       "4 1001964 5.028892 0   \n",
       "5 1004458 5.044925 0   \n",
       "6 1004649 5.002404 0   "
      ]
     },
     "metadata": {},
     "output_type": "display_data"
    }
   ],
   "source": [
    "a_phen <- merge(a, phen, by = \"IID\")\n",
    "head(a_phen)"
   ]
  },
  {
   "cell_type": "code",
   "execution_count": 12,
   "metadata": {},
   "outputs": [
    {
     "data": {
      "image/png": "[encoded data removed]",
      "text/plain": [
       "plot without title"
      ]
     },
     "metadata": {},
     "output_type": "display_data"
    }
   ],
   "source": [
    "boxplot(PRS ~ PHEN, data = a_phen)"
   ]
  },
  {
   "cell_type": "code",
   "execution_count": 19,
   "metadata": {},
   "outputs": [],
   "source": [
    "library(StatMeasures) #Create deciles for PRS\n",
    "a_phen$decile <- decile(vector = a_phen$PRS)\n",
    "head(a_phen)"
   ]
  },
  {
   "cell_type": "code",
   "execution_count": 22,
   "metadata": {},
   "outputs": [
    {
     "data": {
      "text/html": [
       "<table>\n",
       "<thead><tr><th scope=col>IID</th><th scope=col>PRS</th><th scope=col>PHEN</th><th scope=col>decile</th><th scope=col>decile_d</th></tr></thead>\n",
       "<tbody>\n",
       "\t<tr><td>1001207 </td><td>5.016361</td><td>1       </td><td>6       </td><td>6       </td></tr>\n",
       "\t<tr><td>1001732 </td><td>5.003023</td><td>0       </td><td>5       </td><td>5       </td></tr>\n",
       "\t<tr><td>1001874 </td><td>5.026874</td><td>0       </td><td>7       </td><td>7       </td></tr>\n",
       "\t<tr><td>1001964 </td><td>5.028892</td><td>0       </td><td>7       </td><td>7       </td></tr>\n",
       "\t<tr><td>1004458 </td><td>5.044925</td><td>0       </td><td>8       </td><td>8       </td></tr>\n",
       "\t<tr><td>1004649 </td><td>5.002404</td><td>0       </td><td>5       </td><td>5       </td></tr>\n",
       "</tbody>\n",
       "</table>\n"
      ],
      "text/latex": [
       "\\begin{tabular}{r|lllll}\n",
       " IID & PRS & PHEN & decile & decile\\_d\\\\\n",
       "\\hline\n",
       "\t 1001207  & 5.016361 & 1        & 6        & 6       \\\\\n",
       "\t 1001732  & 5.003023 & 0        & 5        & 5       \\\\\n",
       "\t 1001874  & 5.026874 & 0        & 7        & 7       \\\\\n",
       "\t 1001964  & 5.028892 & 0        & 7        & 7       \\\\\n",
       "\t 1004458  & 5.044925 & 0        & 8        & 8       \\\\\n",
       "\t 1004649  & 5.002404 & 0        & 5        & 5       \\\\\n",
       "\\end{tabular}\n"
      ],
      "text/markdown": [
       "\n",
       "IID | PRS | PHEN | decile | decile_d | \n",
       "|---|---|---|---|---|---|\n",
       "| 1001207  | 5.016361 | 1        | 6        | 6        | \n",
       "| 1001732  | 5.003023 | 0        | 5        | 5        | \n",
       "| 1001874  | 5.026874 | 0        | 7        | 7        | \n",
       "| 1001964  | 5.028892 | 0        | 7        | 7        | \n",
       "| 1004458  | 5.044925 | 0        | 8        | 8        | \n",
       "| 1004649  | 5.002404 | 0        | 5        | 5        | \n",
       "\n",
       "\n"
      ],
      "text/plain": [
       "  IID     PRS      PHEN decile decile_d\n",
       "1 1001207 5.016361 1    6      6       \n",
       "2 1001732 5.003023 0    5      5       \n",
       "3 1001874 5.026874 0    7      7       \n",
       "4 1001964 5.028892 0    7      7       \n",
       "5 1004458 5.044925 0    8      8       \n",
       "6 1004649 5.002404 0    5      5       "
      ]
     },
     "metadata": {},
     "output_type": "display_data"
    }
   ],
   "source": [
    "library(dplyr)\n",
    "a_phen$decile_d <- ntile(a_phen$PRS, 10)\n",
    "head(a_phen)"
   ]
  },
  {
   "cell_type": "code",
   "execution_count": 35,
   "metadata": {},
   "outputs": [
    {
     "data": {
      "text/html": [
       "<table>\n",
       "<thead><tr><th scope=col>IID</th><th scope=col>PRS</th><th scope=col>PHEN</th><th scope=col>decile</th><th scope=col>decile_d</th></tr></thead>\n",
       "<tbody>\n",
       "\t<tr><td>1001732 </td><td>5.003023</td><td>0       </td><td>5       </td><td>5       </td></tr>\n",
       "\t<tr><td>1004649 </td><td>5.002404</td><td>0       </td><td>5       </td><td>5       </td></tr>\n",
       "\t<tr><td>1007635 </td><td>5.001400</td><td>0       </td><td>5       </td><td>5       </td></tr>\n",
       "\t<tr><td>1010470 </td><td>5.001482</td><td>0       </td><td>5       </td><td>5       </td></tr>\n",
       "\t<tr><td>1022775 </td><td>5.007749</td><td>0       </td><td>5       </td><td>5       </td></tr>\n",
       "\t<tr><td>1023360 </td><td>5.005093</td><td>0       </td><td>5       </td><td>5       </td></tr>\n",
       "</tbody>\n",
       "</table>\n"
      ],
      "text/latex": [
       "\\begin{tabular}{r|lllll}\n",
       " IID & PRS & PHEN & decile & decile\\_d\\\\\n",
       "\\hline\n",
       "\t 1001732  & 5.003023 & 0        & 5        & 5       \\\\\n",
       "\t 1004649  & 5.002404 & 0        & 5        & 5       \\\\\n",
       "\t 1007635  & 5.001400 & 0        & 5        & 5       \\\\\n",
       "\t 1010470  & 5.001482 & 0        & 5        & 5       \\\\\n",
       "\t 1022775  & 5.007749 & 0        & 5        & 5       \\\\\n",
       "\t 1023360  & 5.005093 & 0        & 5        & 5       \\\\\n",
       "\\end{tabular}\n"
      ],
      "text/markdown": [
       "\n",
       "IID | PRS | PHEN | decile | decile_d | \n",
       "|---|---|---|---|---|---|\n",
       "| 1001732  | 5.003023 | 0        | 5        | 5        | \n",
       "| 1004649  | 5.002404 | 0        | 5        | 5        | \n",
       "| 1007635  | 5.001400 | 0        | 5        | 5        | \n",
       "| 1010470  | 5.001482 | 0        | 5        | 5        | \n",
       "| 1022775  | 5.007749 | 0        | 5        | 5        | \n",
       "| 1023360  | 5.005093 | 0        | 5        | 5        | \n",
       "\n",
       "\n"
      ],
      "text/plain": [
       "  IID     PRS      PHEN decile decile_d\n",
       "1 1001732 5.003023 0    5      5       \n",
       "2 1004649 5.002404 0    5      5       \n",
       "3 1007635 5.001400 0    5      5       \n",
       "4 1010470 5.001482 0    5      5       \n",
       "5 1022775 5.007749 0    5      5       \n",
       "6 1023360 5.005093 0    5      5       "
      ]
     },
     "metadata": {},
     "output_type": "display_data"
    },
    {
     "data": {
      "text/html": [
       "1310"
      ],
      "text/latex": [
       "1310"
      ],
      "text/markdown": [
       "1310"
      ],
      "text/plain": [
       "[1] 1310"
      ]
     },
     "metadata": {},
     "output_type": "display_data"
    },
    {
     "data": {
      "text/html": [
       "9.54198473282443"
      ],
      "text/latex": [
       "9.54198473282443"
      ],
      "text/markdown": [
       "9.54198473282443"
      ],
      "text/plain": [
       "[1] 9.541985"
      ]
     },
     "metadata": {},
     "output_type": "display_data"
    }
   ],
   "source": [
    "decile_5 <- filter(a_phen, a_phen$decile == 5) # Make separate dataframe for each decile bin (which can then be used to count prevalence in each bin)\n",
    "head(decile_5)\n",
    "nrow(decile_5)\n",
    "prevalence_decile_5 <- (sum(decile_5$PHEN)/nrow(decile_5))\n",
    "(prevalence_decile_5)*100"
   ]
  },
  {
   "cell_type": "code",
   "execution_count": 33,
   "metadata": {},
   "outputs": [
    {
     "data": {
      "text/html": [
       "<table>\n",
       "<thead><tr><th scope=col>IID</th><th scope=col>PRS</th><th scope=col>PHEN</th><th scope=col>decile</th><th scope=col>decile_d</th></tr></thead>\n",
       "<tbody>\n",
       "\t<tr><td>1018517 </td><td>4.929394</td><td>0       </td><td>1       </td><td>1       </td></tr>\n",
       "\t<tr><td>1020974 </td><td>4.923094</td><td>0       </td><td>1       </td><td>1       </td></tr>\n",
       "\t<tr><td>1033295 </td><td>4.903752</td><td>0       </td><td>1       </td><td>1       </td></tr>\n",
       "\t<tr><td>1037266 </td><td>4.919018</td><td>0       </td><td>1       </td><td>1       </td></tr>\n",
       "\t<tr><td>1040217 </td><td>4.938950</td><td>0       </td><td>1       </td><td>1       </td></tr>\n",
       "\t<tr><td>1041540 </td><td>4.923846</td><td>0       </td><td>1       </td><td>1       </td></tr>\n",
       "</tbody>\n",
       "</table>\n"
      ],
      "text/latex": [
       "\\begin{tabular}{r|lllll}\n",
       " IID & PRS & PHEN & decile & decile\\_d\\\\\n",
       "\\hline\n",
       "\t 1018517  & 4.929394 & 0        & 1        & 1       \\\\\n",
       "\t 1020974  & 4.923094 & 0        & 1        & 1       \\\\\n",
       "\t 1033295  & 4.903752 & 0        & 1        & 1       \\\\\n",
       "\t 1037266  & 4.919018 & 0        & 1        & 1       \\\\\n",
       "\t 1040217  & 4.938950 & 0        & 1        & 1       \\\\\n",
       "\t 1041540  & 4.923846 & 0        & 1        & 1       \\\\\n",
       "\\end{tabular}\n"
      ],
      "text/markdown": [
       "\n",
       "IID | PRS | PHEN | decile | decile_d | \n",
       "|---|---|---|---|---|---|\n",
       "| 1018517  | 4.929394 | 0        | 1        | 1        | \n",
       "| 1020974  | 4.923094 | 0        | 1        | 1        | \n",
       "| 1033295  | 4.903752 | 0        | 1        | 1        | \n",
       "| 1037266  | 4.919018 | 0        | 1        | 1        | \n",
       "| 1040217  | 4.938950 | 0        | 1        | 1        | \n",
       "| 1041540  | 4.923846 | 0        | 1        | 1        | \n",
       "\n",
       "\n"
      ],
      "text/plain": [
       "  IID     PRS      PHEN decile decile_d\n",
       "1 1018517 4.929394 0    1      1       \n",
       "2 1020974 4.923094 0    1      1       \n",
       "3 1033295 4.903752 0    1      1       \n",
       "4 1037266 4.919018 0    1      1       \n",
       "5 1040217 4.938950 0    1      1       \n",
       "6 1041540 4.923846 0    1      1       "
      ]
     },
     "metadata": {},
     "output_type": "display_data"
    },
    {
     "data": {
      "text/html": [
       "12.2900763358779"
      ],
      "text/latex": [
       "12.2900763358779"
      ],
      "text/markdown": [
       "12.2900763358779"
      ],
      "text/plain": [
       "[1] 12.29008"
      ]
     },
     "metadata": {},
     "output_type": "display_data"
    }
   ],
   "source": [
    "decile_1 <- filter(a_phen, a_phen$decile == 1) # Make separate dataframe for each decile bin (which can then be used to count prevalence in each bin)\n",
    "head(decile_1)\n",
    "prevalence_decile_1 <- (sum(decile_1$PHEN)/nrow(decile_1))\n",
    "(prevalence_decile_1)*100\n"
   ]
  },
  {
   "cell_type": "code",
   "execution_count": 34,
   "metadata": {},
   "outputs": [
    {
     "data": {
      "text/html": [
       "<table>\n",
       "<thead><tr><th scope=col>IID</th><th scope=col>PRS</th><th scope=col>PHEN</th><th scope=col>decile</th><th scope=col>decile_d</th></tr></thead>\n",
       "<tbody>\n",
       "\t<tr><td>1005739 </td><td>5.075747</td><td>1       </td><td>10      </td><td>10      </td></tr>\n",
       "\t<tr><td>1005750 </td><td>5.082924</td><td>0       </td><td>10      </td><td>10      </td></tr>\n",
       "\t<tr><td>1006599 </td><td>5.076991</td><td>0       </td><td>10      </td><td>10      </td></tr>\n",
       "\t<tr><td>1007565 </td><td>5.091157</td><td>0       </td><td>10      </td><td>10      </td></tr>\n",
       "\t<tr><td>1009943 </td><td>5.073005</td><td>1       </td><td>10      </td><td>10      </td></tr>\n",
       "\t<tr><td>1015798 </td><td>5.092432</td><td>0       </td><td>10      </td><td>10      </td></tr>\n",
       "</tbody>\n",
       "</table>\n"
      ],
      "text/latex": [
       "\\begin{tabular}{r|lllll}\n",
       " IID & PRS & PHEN & decile & decile\\_d\\\\\n",
       "\\hline\n",
       "\t 1005739  & 5.075747 & 1        & 10       & 10      \\\\\n",
       "\t 1005750  & 5.082924 & 0        & 10       & 10      \\\\\n",
       "\t 1006599  & 5.076991 & 0        & 10       & 10      \\\\\n",
       "\t 1007565  & 5.091157 & 0        & 10       & 10      \\\\\n",
       "\t 1009943  & 5.073005 & 1        & 10       & 10      \\\\\n",
       "\t 1015798  & 5.092432 & 0        & 10       & 10      \\\\\n",
       "\\end{tabular}\n"
      ],
      "text/markdown": [
       "\n",
       "IID | PRS | PHEN | decile | decile_d | \n",
       "|---|---|---|---|---|---|\n",
       "| 1005739  | 5.075747 | 1        | 10       | 10       | \n",
       "| 1005750  | 5.082924 | 0        | 10       | 10       | \n",
       "| 1006599  | 5.076991 | 0        | 10       | 10       | \n",
       "| 1007565  | 5.091157 | 0        | 10       | 10       | \n",
       "| 1009943  | 5.073005 | 1        | 10       | 10       | \n",
       "| 1015798  | 5.092432 | 0        | 10       | 10       | \n",
       "\n",
       "\n"
      ],
      "text/plain": [
       "  IID     PRS      PHEN decile decile_d\n",
       "1 1005739 5.075747 1    10     10      \n",
       "2 1005750 5.082924 0    10     10      \n",
       "3 1006599 5.076991 0    10     10      \n",
       "4 1007565 5.091157 0    10     10      \n",
       "5 1009943 5.073005 1    10     10      \n",
       "6 1015798 5.092432 0    10     10      "
      ]
     },
     "metadata": {},
     "output_type": "display_data"
    },
    {
     "data": {
      "text/html": [
       "7.93893129770992"
      ],
      "text/latex": [
       "7.93893129770992"
      ],
      "text/markdown": [
       "7.93893129770992"
      ],
      "text/plain": [
       "[1] 7.938931"
      ]
     },
     "metadata": {},
     "output_type": "display_data"
    }
   ],
   "source": [
    "decile_10 <- filter(a_phen, a_phen$decile == 10) # Make separate dataframe for each decile bin (which can then be used to count prevalence in each bin)\n",
    "head(decile_10)\n",
    "prevalence_decile_10 <- (sum(decile_10$PHEN)/nrow(decile_10))\n",
    "(prevalence_decile_10)*100"
   ]
  },
  {
   "cell_type": "code",
   "execution_count": null,
   "metadata": {},
   "outputs": [],
   "source": []
  }
 ],
 "metadata": {
  "kernelspec": {
   "display_name": "R 3.5.1",
   "language": "R",
   "name": "ir35"
  },
  "language_info": {
   "codemirror_mode": "r",
   "file_extension": ".r",
   "mimetype": "text/x-r-source",
   "name": "R",
   "pygments_lexer": "r",
   "version": "3.5.1"
  }
 },
 "nbformat": 4,
 "nbformat_minor": 2
}
