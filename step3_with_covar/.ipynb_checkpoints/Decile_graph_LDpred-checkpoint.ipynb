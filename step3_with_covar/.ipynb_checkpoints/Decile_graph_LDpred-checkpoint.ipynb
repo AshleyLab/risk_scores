{
 "cells": [
  {
   "cell_type": "code",
   "execution_count": 2,
   "metadata": {},
   "outputs": [],
   "source": [
    "a <- read.table(\"step3_ukbb_random_out_LDpred_p1.0000e-03.txt\", header = TRUE)"
   ]
  },
  {
   "cell_type": "code",
   "execution_count": 9,
   "metadata": {},
   "outputs": [
    {
     "data": {
      "text/html": [
       "<table>\n",
       "<thead><tr><th scope=col>IID</th><th scope=col>PRS</th></tr></thead>\n",
       "<tbody>\n",
       "\t<tr><td>1001207 </td><td>5.016361</td></tr>\n",
       "\t<tr><td>1001732 </td><td>5.003023</td></tr>\n",
       "\t<tr><td>1001874 </td><td>5.026874</td></tr>\n",
       "\t<tr><td>1001964 </td><td>5.028892</td></tr>\n",
       "\t<tr><td>1004458 </td><td>5.044925</td></tr>\n",
       "\t<tr><td>1004649 </td><td>5.002404</td></tr>\n",
       "</tbody>\n",
       "</table>\n"
      ],
      "text/latex": [
       "\\begin{tabular}{r|ll}\n",
       " IID & PRS\\\\\n",
       "\\hline\n",
       "\t 1001207  & 5.016361\\\\\n",
       "\t 1001732  & 5.003023\\\\\n",
       "\t 1001874  & 5.026874\\\\\n",
       "\t 1001964  & 5.028892\\\\\n",
       "\t 1004458  & 5.044925\\\\\n",
       "\t 1004649  & 5.002404\\\\\n",
       "\\end{tabular}\n"
      ],
      "text/markdown": [
       "\n",
       "IID | PRS | \n",
       "|---|---|---|---|---|---|\n",
       "| 1001207  | 5.016361 | \n",
       "| 1001732  | 5.003023 | \n",
       "| 1001874  | 5.026874 | \n",
       "| 1001964  | 5.028892 | \n",
       "| 1004458  | 5.044925 | \n",
       "| 1004649  | 5.002404 | \n",
       "\n",
       "\n"
      ],
      "text/plain": [
       "  IID     PRS     \n",
       "1 1001207 5.016361\n",
       "2 1001732 5.003023\n",
       "3 1001874 5.026874\n",
       "4 1001964 5.028892\n",
       "5 1004458 5.044925\n",
       "6 1004649 5.002404"
      ]
     },
     "metadata": {},
     "output_type": "display_data"
    }
   ],
   "source": [
    "head(a)"
   ]
  },
  {
   "cell_type": "code",
   "execution_count": 8,
   "metadata": {},
   "outputs": [],
   "source": [
    "a$IID. <- gsub(\",\", \"\", a$IID.)\n",
    "colnames(a)[1] <- c(\"IID\")"
   ]
  },
  {
   "cell_type": "code",
   "execution_count": 6,
   "metadata": {},
   "outputs": [],
   "source": [
    "phen <- read.table(\"phenotype_file.tsv\", header = TRUE)"
   ]
  },
  {
   "cell_type": "code",
   "execution_count": 7,
   "metadata": {},
   "outputs": [
    {
     "data": {
      "text/html": [
       "<table>\n",
       "<thead><tr><th scope=col>IID</th><th scope=col>PHEN</th></tr></thead>\n",
       "<tbody>\n",
       "\t<tr><td>2365537</td><td>0      </td></tr>\n",
       "\t<tr><td>5270945</td><td>0      </td></tr>\n",
       "\t<tr><td>2516596</td><td>1      </td></tr>\n",
       "\t<tr><td>2807764</td><td>0      </td></tr>\n",
       "\t<tr><td>2350324</td><td>0      </td></tr>\n",
       "\t<tr><td>3651143</td><td>0      </td></tr>\n",
       "</tbody>\n",
       "</table>\n"
      ],
      "text/latex": [
       "\\begin{tabular}{r|ll}\n",
       " IID & PHEN\\\\\n",
       "\\hline\n",
       "\t 2365537 & 0      \\\\\n",
       "\t 5270945 & 0      \\\\\n",
       "\t 2516596 & 1      \\\\\n",
       "\t 2807764 & 0      \\\\\n",
       "\t 2350324 & 0      \\\\\n",
       "\t 3651143 & 0      \\\\\n",
       "\\end{tabular}\n"
      ],
      "text/markdown": [
       "\n",
       "IID | PHEN | \n",
       "|---|---|---|---|---|---|\n",
       "| 2365537 | 0       | \n",
       "| 5270945 | 0       | \n",
       "| 2516596 | 1       | \n",
       "| 2807764 | 0       | \n",
       "| 2350324 | 0       | \n",
       "| 3651143 | 0       | \n",
       "\n",
       "\n"
      ],
      "text/plain": [
       "  IID     PHEN\n",
       "1 2365537 0   \n",
       "2 5270945 0   \n",
       "3 2516596 1   \n",
       "4 2807764 0   \n",
       "5 2350324 0   \n",
       "6 3651143 0   "
      ]
     },
     "metadata": {},
     "output_type": "display_data"
    }
   ],
   "source": [
    "head(phen)"
   ]
  },
  {
   "cell_type": "code",
   "execution_count": 11,
   "metadata": {},
   "outputs": [
    {
     "data": {
      "text/html": [
       "<table>\n",
       "<thead><tr><th scope=col>IID</th><th scope=col>PRS</th><th scope=col>PHEN</th></tr></thead>\n",
       "<tbody>\n",
       "\t<tr><td>1001207 </td><td>5.016361</td><td>1       </td></tr>\n",
       "\t<tr><td>1001732 </td><td>5.003023</td><td>0       </td></tr>\n",
       "\t<tr><td>1001874 </td><td>5.026874</td><td>0       </td></tr>\n",
       "\t<tr><td>1001964 </td><td>5.028892</td><td>0       </td></tr>\n",
       "\t<tr><td>1004458 </td><td>5.044925</td><td>0       </td></tr>\n",
       "\t<tr><td>1004649 </td><td>5.002404</td><td>0       </td></tr>\n",
       "</tbody>\n",
       "</table>\n"
      ],
      "text/latex": [
       "\\begin{tabular}{r|lll}\n",
       " IID & PRS & PHEN\\\\\n",
       "\\hline\n",
       "\t 1001207  & 5.016361 & 1       \\\\\n",
       "\t 1001732  & 5.003023 & 0       \\\\\n",
       "\t 1001874  & 5.026874 & 0       \\\\\n",
       "\t 1001964  & 5.028892 & 0       \\\\\n",
       "\t 1004458  & 5.044925 & 0       \\\\\n",
       "\t 1004649  & 5.002404 & 0       \\\\\n",
       "\\end{tabular}\n"
      ],
      "text/markdown": [
       "\n",
       "IID | PRS | PHEN | \n",
       "|---|---|---|---|---|---|\n",
       "| 1001207  | 5.016361 | 1        | \n",
       "| 1001732  | 5.003023 | 0        | \n",
       "| 1001874  | 5.026874 | 0        | \n",
       "| 1001964  | 5.028892 | 0        | \n",
       "| 1004458  | 5.044925 | 0        | \n",
       "| 1004649  | 5.002404 | 0        | \n",
       "\n",
       "\n"
      ],
      "text/plain": [
       "  IID     PRS      PHEN\n",
       "1 1001207 5.016361 1   \n",
       "2 1001732 5.003023 0   \n",
       "3 1001874 5.026874 0   \n",
       "4 1001964 5.028892 0   \n",
       "5 1004458 5.044925 0   \n",
       "6 1004649 5.002404 0   "
      ]
     },
     "metadata": {},
     "output_type": "display_data"
    }
   ],
   "source": [
    "a_phen <- merge(a, phen, by = \"IID\")\n",
    "head(a_phen)"
   ]
  },
  {
   "cell_type": "code",
   "execution_count": 12,
   "metadata": {},
   "outputs": [
    {
     "data": {
      "image/png": "[encoded data removed]",
      "text/plain": [
       "plot without title"
      ]
     },
     "metadata": {},
     "output_type": "display_data"
    }
   ],
   "source": [
    "boxplot(PRS ~ PHEN, data = a_phen)"
   ]
  },
  {
   "cell_type": "code",
   "execution_count": 19,
   "metadata": {},
   "outputs": [],
   "source": [
    "library(StatMeasures) #Create deciles for PRS\n",
    "a_phen$decile <- decile(vector = a_phen$PRS)\n",
    "head(a_phen)"
   ]
  },
  {
   "cell_type": "code",
   "execution_count": 20,
   "metadata": {},
   "outputs": [
    {
     "data": {
      "text/html": [
       "<table>\n",
       "<thead><tr><th scope=col>IID</th><th scope=col>PRS</th><th scope=col>PHEN</th><th scope=col>decile</th></tr></thead>\n",
       "<tbody>\n",
       "\t<tr><td>1001207 </td><td>5.016361</td><td>1       </td><td>6       </td></tr>\n",
       "\t<tr><td>1001732 </td><td>5.003023</td><td>0       </td><td>5       </td></tr>\n",
       "\t<tr><td>1001874 </td><td>5.026874</td><td>0       </td><td>7       </td></tr>\n",
       "\t<tr><td>1001964 </td><td>5.028892</td><td>0       </td><td>7       </td></tr>\n",
       "\t<tr><td>1004458 </td><td>5.044925</td><td>0       </td><td>8       </td></tr>\n",
       "\t<tr><td>1004649 </td><td>5.002404</td><td>0       </td><td>5       </td></tr>\n",
       "</tbody>\n",
       "</table>\n"
      ],
      "text/latex": [
       "\\begin{tabular}{r|llll}\n",
       " IID & PRS & PHEN & decile\\\\\n",
       "\\hline\n",
       "\t 1001207  & 5.016361 & 1        & 6       \\\\\n",
       "\t 1001732  & 5.003023 & 0        & 5       \\\\\n",
       "\t 1001874  & 5.026874 & 0        & 7       \\\\\n",
       "\t 1001964  & 5.028892 & 0        & 7       \\\\\n",
       "\t 1004458  & 5.044925 & 0        & 8       \\\\\n",
       "\t 1004649  & 5.002404 & 0        & 5       \\\\\n",
       "\\end{tabular}\n"
      ],
      "text/markdown": [
       "\n",
       "IID | PRS | PHEN | decile | \n",
       "|---|---|---|---|---|---|\n",
       "| 1001207  | 5.016361 | 1        | 6        | \n",
       "| 1001732  | 5.003023 | 0        | 5        | \n",
       "| 1001874  | 5.026874 | 0        | 7        | \n",
       "| 1001964  | 5.028892 | 0        | 7        | \n",
       "| 1004458  | 5.044925 | 0        | 8        | \n",
       "| 1004649  | 5.002404 | 0        | 5        | \n",
       "\n",
       "\n"
      ],
      "text/plain": [
       "  IID     PRS      PHEN decile\n",
       "1 1001207 5.016361 1    6     \n",
       "2 1001732 5.003023 0    5     \n",
       "3 1001874 5.026874 0    7     \n",
       "4 1001964 5.028892 0    7     \n",
       "5 1004458 5.044925 0    8     \n",
       "6 1004649 5.002404 0    5     "
      ]
     },
     "metadata": {},
     "output_type": "display_data"
    }
   ],
   "source": []
  },
  {
   "cell_type": "code",
   "execution_count": null,
   "metadata": {},
   "outputs": [],
   "source": []
  }
 ],
 "metadata": {
  "kernelspec": {
   "display_name": "R 3.5.1",
   "language": "R",
   "name": "ir35"
  },
  "language_info": {
   "codemirror_mode": "r",
   "file_extension": ".r",
   "mimetype": "text/x-r-source",
   "name": "R",
   "pygments_lexer": "r",
   "version": "3.5.1"
  }
 },
 "nbformat": 4,
 "nbformat_minor": 2
}
